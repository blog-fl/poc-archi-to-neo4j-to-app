{
 "cells": [
  {
   "cell_type": "markdown",
   "metadata": {},
   "source": [
    "# Proof of Concept: Archi to Neo4j to App\n",
    "\n",
    "## Background\n",
    "\n",
    "I often use Archi for my daily work. During my research I came across the following article: https://medium.com/geekculture/using-a-graph-database-to-explore-your-archimate-model-df7bd63f65dd. The aim of this PoC is to reconstruct the described procedure and to solve a use case with it.\n",
    "\n",
    "## Setting the Stage\n",
    "\n",
    "### The Archi Model\n",
    "\n",
    "As a basis, I have created an exemplary reference model with Archi, which containts simplified elements of APQC'S PROCESS CLASSIFICATION FRAMEWORK® CROSS-INDUSTRY.\n",
    "\n",
    "*Reference: https://www.apqc.org/resource-library/resource-listing/apqc-process-classification-framework-pcf-cross-industry-pdf-12*\n",
    "\n",
    "I have exported this model as a CSV (/archi-csv/ReferenceModel_APQC_PFC)\n",
    "I have also copied the files for ArchIsurance from https://github.com/lju-lazarevic/misc/tree/main/archi to (/archi-csv/ArchIsurance)\n",
    "\n",
    "### Neo4j\n",
    "\n",
    "I have created an account for https://neo4j.com/sandbox.\n",
    "\n",
    "\n",
    "\n",
    "**Load the elements data:**\n",
    "LOAD CSV WITH HEADERS FROM 'https://github.com/blog-fl/poc-archi-to-neo4j-to-app/tree/f410995ef2125a2976474c07c10744015d2d40cc/archi-csv/ReferenceModel_APQC_PFC/elements.csv' AS line\n",
    "CREATE (:elements {class:line.Type, name:line.Name, documentation:line.Documentation,\n",
    "    id:line.ID })\n",
    "\n",
    "**Load relations info:**\n",
    "LOAD CSV WITH HEADERS FROM 'https://github.com/blog-fl/poc-archi-to-neo4j-to-app/tree/f410995ef2125a2976474c07c10744015d2d40cc/archi-csv/ReferenceModel_APQC_PFC/relations.csv' AS line\n",
    "MATCH (n {id:line.Source})\n",
    "WITH n, line\n",
    "MATCH (m {id:line.Target})\n",
    "WITH n, m, line\n",
    "CREATE (n)-[:relationships {id:line.ID, class:line.Type, documentation:line.Documentation,\n",
    "    name:line.Name}]->(m)\n",
    "\n"
   ]
  }
 ],
 "metadata": {
  "language_info": {
   "name": "python"
  }
 },
 "nbformat": 4,
 "nbformat_minor": 2
}
